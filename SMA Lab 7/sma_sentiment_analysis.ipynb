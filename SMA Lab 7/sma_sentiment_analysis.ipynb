{
  "nbformat": 4,
  "nbformat_minor": 0,
  "metadata": {
    "colab": {
      "provenance": []
    },
    "kernelspec": {
      "name": "python3",
      "display_name": "Python 3"
    },
    "language_info": {
      "name": "python"
    }
  },
  "cells": [
    {
      "cell_type": "markdown",
      "source": [
        "# Sentiment Analysis\n",
        "\n",
        "Tool : project [vaderSentiment](https://github.com/cjhutto/vaderSentiment)"
      ],
      "metadata": {
        "id": "ml3DJPL8DPx5"
      }
    },
    {
      "cell_type": "code",
      "source": [
        "from vaderSentiment.vaderSentiment import SentimentIntensityAnalyzer\n",
        "sia = SentimentIntensityAnalyzer()\n",
        "from matplotlib import pyplot as plt\n",
        "import pandas as pd\n",
        "data = \"https://raw.githubusercontent.com/ArtaXerxess/Social-Media-Analytics-Lab/main/SMA%20Lab%207/20191226-reviews.csv\""
      ],
      "metadata": {
        "id": "DyaVyxPA4Qsf"
      },
      "execution_count": null,
      "outputs": []
    },
    {
      "cell_type": "code",
      "source": [
        "df = pd.read_csv(data)\n",
        "df.head()"
      ],
      "metadata": {
        "colab": {
          "base_uri": "https://localhost:8080/",
          "height": 337
        },
        "id": "zz39mWxM47jb",
        "outputId": "c61e5fc9-356b-42ce-97df-a9edd326397c"
      },
      "execution_count": null,
      "outputs": [
        {
          "output_type": "execute_result",
          "data": {
            "text/plain": [
              "         asin           name  rating               date  verified  \\\n",
              "0  B0000SX2UC          Janet       3   October 11, 2005     False   \n",
              "1  B0000SX2UC     Luke Wyatt       1    January 7, 2004     False   \n",
              "2  B0000SX2UC         Brooke       5  December 30, 2003     False   \n",
              "3  B0000SX2UC  amy m. teague       3     March 18, 2004     False   \n",
              "4  B0000SX2UC  tristazbimmer       4    August 28, 2005     False   \n",
              "\n",
              "                                          title  \\\n",
              "0                   Def not best, but not worst   \n",
              "1                   Text Messaging Doesn't Work   \n",
              "2                               Love This Phone   \n",
              "3                       Love the Phone, BUT...!   \n",
              "4  Great phone service and options, lousy case!   \n",
              "\n",
              "                                                body  helpfulVotes  \n",
              "0  I had the Samsung A600 for awhile which is abs...           1.0  \n",
              "1  Due to a software issue between Nokia and Spri...          17.0  \n",
              "2  This is a great, reliable phone. I also purcha...           5.0  \n",
              "3  I love the phone and all, because I really did...           1.0  \n",
              "4  The phone has been great for every purpose it ...           1.0  "
            ],
            "text/html": [
              "\n",
              "  <div id=\"df-67fbc88a-7399-4b5e-a33d-2367947b6e02\">\n",
              "    <div class=\"colab-df-container\">\n",
              "      <div>\n",
              "<style scoped>\n",
              "    .dataframe tbody tr th:only-of-type {\n",
              "        vertical-align: middle;\n",
              "    }\n",
              "\n",
              "    .dataframe tbody tr th {\n",
              "        vertical-align: top;\n",
              "    }\n",
              "\n",
              "    .dataframe thead th {\n",
              "        text-align: right;\n",
              "    }\n",
              "</style>\n",
              "<table border=\"1\" class=\"dataframe\">\n",
              "  <thead>\n",
              "    <tr style=\"text-align: right;\">\n",
              "      <th></th>\n",
              "      <th>asin</th>\n",
              "      <th>name</th>\n",
              "      <th>rating</th>\n",
              "      <th>date</th>\n",
              "      <th>verified</th>\n",
              "      <th>title</th>\n",
              "      <th>body</th>\n",
              "      <th>helpfulVotes</th>\n",
              "    </tr>\n",
              "  </thead>\n",
              "  <tbody>\n",
              "    <tr>\n",
              "      <th>0</th>\n",
              "      <td>B0000SX2UC</td>\n",
              "      <td>Janet</td>\n",
              "      <td>3</td>\n",
              "      <td>October 11, 2005</td>\n",
              "      <td>False</td>\n",
              "      <td>Def not best, but not worst</td>\n",
              "      <td>I had the Samsung A600 for awhile which is abs...</td>\n",
              "      <td>1.0</td>\n",
              "    </tr>\n",
              "    <tr>\n",
              "      <th>1</th>\n",
              "      <td>B0000SX2UC</td>\n",
              "      <td>Luke Wyatt</td>\n",
              "      <td>1</td>\n",
              "      <td>January 7, 2004</td>\n",
              "      <td>False</td>\n",
              "      <td>Text Messaging Doesn't Work</td>\n",
              "      <td>Due to a software issue between Nokia and Spri...</td>\n",
              "      <td>17.0</td>\n",
              "    </tr>\n",
              "    <tr>\n",
              "      <th>2</th>\n",
              "      <td>B0000SX2UC</td>\n",
              "      <td>Brooke</td>\n",
              "      <td>5</td>\n",
              "      <td>December 30, 2003</td>\n",
              "      <td>False</td>\n",
              "      <td>Love This Phone</td>\n",
              "      <td>This is a great, reliable phone. I also purcha...</td>\n",
              "      <td>5.0</td>\n",
              "    </tr>\n",
              "    <tr>\n",
              "      <th>3</th>\n",
              "      <td>B0000SX2UC</td>\n",
              "      <td>amy m. teague</td>\n",
              "      <td>3</td>\n",
              "      <td>March 18, 2004</td>\n",
              "      <td>False</td>\n",
              "      <td>Love the Phone, BUT...!</td>\n",
              "      <td>I love the phone and all, because I really did...</td>\n",
              "      <td>1.0</td>\n",
              "    </tr>\n",
              "    <tr>\n",
              "      <th>4</th>\n",
              "      <td>B0000SX2UC</td>\n",
              "      <td>tristazbimmer</td>\n",
              "      <td>4</td>\n",
              "      <td>August 28, 2005</td>\n",
              "      <td>False</td>\n",
              "      <td>Great phone service and options, lousy case!</td>\n",
              "      <td>The phone has been great for every purpose it ...</td>\n",
              "      <td>1.0</td>\n",
              "    </tr>\n",
              "  </tbody>\n",
              "</table>\n",
              "</div>\n",
              "      <button class=\"colab-df-convert\" onclick=\"convertToInteractive('df-67fbc88a-7399-4b5e-a33d-2367947b6e02')\"\n",
              "              title=\"Convert this dataframe to an interactive table.\"\n",
              "              style=\"display:none;\">\n",
              "        \n",
              "  <svg xmlns=\"http://www.w3.org/2000/svg\" height=\"24px\"viewBox=\"0 0 24 24\"\n",
              "       width=\"24px\">\n",
              "    <path d=\"M0 0h24v24H0V0z\" fill=\"none\"/>\n",
              "    <path d=\"M18.56 5.44l.94 2.06.94-2.06 2.06-.94-2.06-.94-.94-2.06-.94 2.06-2.06.94zm-11 1L8.5 8.5l.94-2.06 2.06-.94-2.06-.94L8.5 2.5l-.94 2.06-2.06.94zm10 10l.94 2.06.94-2.06 2.06-.94-2.06-.94-.94-2.06-.94 2.06-2.06.94z\"/><path d=\"M17.41 7.96l-1.37-1.37c-.4-.4-.92-.59-1.43-.59-.52 0-1.04.2-1.43.59L10.3 9.45l-7.72 7.72c-.78.78-.78 2.05 0 2.83L4 21.41c.39.39.9.59 1.41.59.51 0 1.02-.2 1.41-.59l7.78-7.78 2.81-2.81c.8-.78.8-2.07 0-2.86zM5.41 20L4 18.59l7.72-7.72 1.47 1.35L5.41 20z\"/>\n",
              "  </svg>\n",
              "      </button>\n",
              "      \n",
              "  <style>\n",
              "    .colab-df-container {\n",
              "      display:flex;\n",
              "      flex-wrap:wrap;\n",
              "      gap: 12px;\n",
              "    }\n",
              "\n",
              "    .colab-df-convert {\n",
              "      background-color: #E8F0FE;\n",
              "      border: none;\n",
              "      border-radius: 50%;\n",
              "      cursor: pointer;\n",
              "      display: none;\n",
              "      fill: #1967D2;\n",
              "      height: 32px;\n",
              "      padding: 0 0 0 0;\n",
              "      width: 32px;\n",
              "    }\n",
              "\n",
              "    .colab-df-convert:hover {\n",
              "      background-color: #E2EBFA;\n",
              "      box-shadow: 0px 1px 2px rgba(60, 64, 67, 0.3), 0px 1px 3px 1px rgba(60, 64, 67, 0.15);\n",
              "      fill: #174EA6;\n",
              "    }\n",
              "\n",
              "    [theme=dark] .colab-df-convert {\n",
              "      background-color: #3B4455;\n",
              "      fill: #D2E3FC;\n",
              "    }\n",
              "\n",
              "    [theme=dark] .colab-df-convert:hover {\n",
              "      background-color: #434B5C;\n",
              "      box-shadow: 0px 1px 3px 1px rgba(0, 0, 0, 0.15);\n",
              "      filter: drop-shadow(0px 1px 2px rgba(0, 0, 0, 0.3));\n",
              "      fill: #FFFFFF;\n",
              "    }\n",
              "  </style>\n",
              "\n",
              "      <script>\n",
              "        const buttonEl =\n",
              "          document.querySelector('#df-67fbc88a-7399-4b5e-a33d-2367947b6e02 button.colab-df-convert');\n",
              "        buttonEl.style.display =\n",
              "          google.colab.kernel.accessAllowed ? 'block' : 'none';\n",
              "\n",
              "        async function convertToInteractive(key) {\n",
              "          const element = document.querySelector('#df-67fbc88a-7399-4b5e-a33d-2367947b6e02');\n",
              "          const dataTable =\n",
              "            await google.colab.kernel.invokeFunction('convertToInteractive',\n",
              "                                                     [key], {});\n",
              "          if (!dataTable) return;\n",
              "\n",
              "          const docLinkHtml = 'Like what you see? Visit the ' +\n",
              "            '<a target=\"_blank\" href=https://colab.research.google.com/notebooks/data_table.ipynb>data table notebook</a>'\n",
              "            + ' to learn more about interactive tables.';\n",
              "          element.innerHTML = '';\n",
              "          dataTable['output_type'] = 'display_data';\n",
              "          await google.colab.output.renderOutput(dataTable, element);\n",
              "          const docLink = document.createElement('div');\n",
              "          docLink.innerHTML = docLinkHtml;\n",
              "          element.appendChild(docLink);\n",
              "        }\n",
              "      </script>\n",
              "    </div>\n",
              "  </div>\n",
              "  "
            ]
          },
          "metadata": {},
          "execution_count": 13
        }
      ]
    },
    {
      "cell_type": "code",
      "source": [
        "print(df.shape)\n",
        "print(df.dtypes)"
      ],
      "metadata": {
        "colab": {
          "base_uri": "https://localhost:8080/"
        },
        "id": "LA9JU-Fs6Ef_",
        "outputId": "9fe58269-c0ba-4d08-e0a8-9d4da490487d"
      },
      "execution_count": null,
      "outputs": [
        {
          "output_type": "stream",
          "name": "stdout",
          "text": [
            "(67986, 8)\n",
            "asin             object\n",
            "name             object\n",
            "rating            int64\n",
            "date             object\n",
            "verified           bool\n",
            "title            object\n",
            "body             object\n",
            "helpfulVotes    float64\n",
            "dtype: object\n"
          ]
        }
      ]
    },
    {
      "cell_type": "code",
      "source": [
        "df.drop(['asin','name','rating','date',\"title\",'verified','helpfulVotes'],axis=1,inplace = True)\n",
        "df.head()"
      ],
      "metadata": {
        "colab": {
          "base_uri": "https://localhost:8080/",
          "height": 206
        },
        "id": "g6aKybdX5b2U",
        "outputId": "5738d30b-dfaa-4392-bfa3-2ec459a074de"
      },
      "execution_count": null,
      "outputs": [
        {
          "output_type": "execute_result",
          "data": {
            "text/plain": [
              "                                                body\n",
              "0  I had the Samsung A600 for awhile which is abs...\n",
              "1  Due to a software issue between Nokia and Spri...\n",
              "2  This is a great, reliable phone. I also purcha...\n",
              "3  I love the phone and all, because I really did...\n",
              "4  The phone has been great for every purpose it ..."
            ],
            "text/html": [
              "\n",
              "  <div id=\"df-508590b2-6e91-49f9-b716-d13534bb0792\">\n",
              "    <div class=\"colab-df-container\">\n",
              "      <div>\n",
              "<style scoped>\n",
              "    .dataframe tbody tr th:only-of-type {\n",
              "        vertical-align: middle;\n",
              "    }\n",
              "\n",
              "    .dataframe tbody tr th {\n",
              "        vertical-align: top;\n",
              "    }\n",
              "\n",
              "    .dataframe thead th {\n",
              "        text-align: right;\n",
              "    }\n",
              "</style>\n",
              "<table border=\"1\" class=\"dataframe\">\n",
              "  <thead>\n",
              "    <tr style=\"text-align: right;\">\n",
              "      <th></th>\n",
              "      <th>body</th>\n",
              "    </tr>\n",
              "  </thead>\n",
              "  <tbody>\n",
              "    <tr>\n",
              "      <th>0</th>\n",
              "      <td>I had the Samsung A600 for awhile which is abs...</td>\n",
              "    </tr>\n",
              "    <tr>\n",
              "      <th>1</th>\n",
              "      <td>Due to a software issue between Nokia and Spri...</td>\n",
              "    </tr>\n",
              "    <tr>\n",
              "      <th>2</th>\n",
              "      <td>This is a great, reliable phone. I also purcha...</td>\n",
              "    </tr>\n",
              "    <tr>\n",
              "      <th>3</th>\n",
              "      <td>I love the phone and all, because I really did...</td>\n",
              "    </tr>\n",
              "    <tr>\n",
              "      <th>4</th>\n",
              "      <td>The phone has been great for every purpose it ...</td>\n",
              "    </tr>\n",
              "  </tbody>\n",
              "</table>\n",
              "</div>\n",
              "      <button class=\"colab-df-convert\" onclick=\"convertToInteractive('df-508590b2-6e91-49f9-b716-d13534bb0792')\"\n",
              "              title=\"Convert this dataframe to an interactive table.\"\n",
              "              style=\"display:none;\">\n",
              "        \n",
              "  <svg xmlns=\"http://www.w3.org/2000/svg\" height=\"24px\"viewBox=\"0 0 24 24\"\n",
              "       width=\"24px\">\n",
              "    <path d=\"M0 0h24v24H0V0z\" fill=\"none\"/>\n",
              "    <path d=\"M18.56 5.44l.94 2.06.94-2.06 2.06-.94-2.06-.94-.94-2.06-.94 2.06-2.06.94zm-11 1L8.5 8.5l.94-2.06 2.06-.94-2.06-.94L8.5 2.5l-.94 2.06-2.06.94zm10 10l.94 2.06.94-2.06 2.06-.94-2.06-.94-.94-2.06-.94 2.06-2.06.94z\"/><path d=\"M17.41 7.96l-1.37-1.37c-.4-.4-.92-.59-1.43-.59-.52 0-1.04.2-1.43.59L10.3 9.45l-7.72 7.72c-.78.78-.78 2.05 0 2.83L4 21.41c.39.39.9.59 1.41.59.51 0 1.02-.2 1.41-.59l7.78-7.78 2.81-2.81c.8-.78.8-2.07 0-2.86zM5.41 20L4 18.59l7.72-7.72 1.47 1.35L5.41 20z\"/>\n",
              "  </svg>\n",
              "      </button>\n",
              "      \n",
              "  <style>\n",
              "    .colab-df-container {\n",
              "      display:flex;\n",
              "      flex-wrap:wrap;\n",
              "      gap: 12px;\n",
              "    }\n",
              "\n",
              "    .colab-df-convert {\n",
              "      background-color: #E8F0FE;\n",
              "      border: none;\n",
              "      border-radius: 50%;\n",
              "      cursor: pointer;\n",
              "      display: none;\n",
              "      fill: #1967D2;\n",
              "      height: 32px;\n",
              "      padding: 0 0 0 0;\n",
              "      width: 32px;\n",
              "    }\n",
              "\n",
              "    .colab-df-convert:hover {\n",
              "      background-color: #E2EBFA;\n",
              "      box-shadow: 0px 1px 2px rgba(60, 64, 67, 0.3), 0px 1px 3px 1px rgba(60, 64, 67, 0.15);\n",
              "      fill: #174EA6;\n",
              "    }\n",
              "\n",
              "    [theme=dark] .colab-df-convert {\n",
              "      background-color: #3B4455;\n",
              "      fill: #D2E3FC;\n",
              "    }\n",
              "\n",
              "    [theme=dark] .colab-df-convert:hover {\n",
              "      background-color: #434B5C;\n",
              "      box-shadow: 0px 1px 3px 1px rgba(0, 0, 0, 0.15);\n",
              "      filter: drop-shadow(0px 1px 2px rgba(0, 0, 0, 0.3));\n",
              "      fill: #FFFFFF;\n",
              "    }\n",
              "  </style>\n",
              "\n",
              "      <script>\n",
              "        const buttonEl =\n",
              "          document.querySelector('#df-508590b2-6e91-49f9-b716-d13534bb0792 button.colab-df-convert');\n",
              "        buttonEl.style.display =\n",
              "          google.colab.kernel.accessAllowed ? 'block' : 'none';\n",
              "\n",
              "        async function convertToInteractive(key) {\n",
              "          const element = document.querySelector('#df-508590b2-6e91-49f9-b716-d13534bb0792');\n",
              "          const dataTable =\n",
              "            await google.colab.kernel.invokeFunction('convertToInteractive',\n",
              "                                                     [key], {});\n",
              "          if (!dataTable) return;\n",
              "\n",
              "          const docLinkHtml = 'Like what you see? Visit the ' +\n",
              "            '<a target=\"_blank\" href=https://colab.research.google.com/notebooks/data_table.ipynb>data table notebook</a>'\n",
              "            + ' to learn more about interactive tables.';\n",
              "          element.innerHTML = '';\n",
              "          dataTable['output_type'] = 'display_data';\n",
              "          await google.colab.output.renderOutput(dataTable, element);\n",
              "          const docLink = document.createElement('div');\n",
              "          docLink.innerHTML = docLinkHtml;\n",
              "          element.appendChild(docLink);\n",
              "        }\n",
              "      </script>\n",
              "    </div>\n",
              "  </div>\n",
              "  "
            ]
          },
          "metadata": {},
          "execution_count": 15
        }
      ]
    },
    {
      "cell_type": "code",
      "source": [
        "df['scores']=df['body'].apply(lambda body: sia.polarity_scores(str(body)))\n",
        "df.head()"
      ],
      "metadata": {
        "id": "qoErFoC06dot"
      },
      "execution_count": null,
      "outputs": []
    },
    {
      "cell_type": "code",
      "source": [
        "df['Positive'] = df['scores'].apply(lambda scores: dict(scores)['pos'])\n",
        "df['Negative'] = df['scores'].apply(lambda scores: dict(scores)['neg'])\n",
        "df['Neutral'] = df['scores'].apply(lambda scores: dict(scores)['neu'])\n",
        "df['Compound'] = df['scores'].apply(lambda scores: dict(scores)['compound'])"
      ],
      "metadata": {
        "id": "y7MrjoY37EIx"
      },
      "execution_count": null,
      "outputs": []
    },
    {
      "cell_type": "code",
      "source": [
        "df.head()"
      ],
      "metadata": {
        "colab": {
          "base_uri": "https://localhost:8080/",
          "height": 206
        },
        "id": "8NEJPuPG8K0N",
        "outputId": "f099d023-fae7-4b56-ffb2-0f257f974176"
      },
      "execution_count": null,
      "outputs": [
        {
          "output_type": "execute_result",
          "data": {
            "text/plain": [
              "                                                body  \\\n",
              "0  I had the Samsung A600 for awhile which is abs...   \n",
              "1  Due to a software issue between Nokia and Spri...   \n",
              "2  This is a great, reliable phone. I also purcha...   \n",
              "3  I love the phone and all, because I really did...   \n",
              "4  The phone has been great for every purpose it ...   \n",
              "\n",
              "                                              scores  Positive  Negative  \\\n",
              "0  {'neg': 0.076, 'neu': 0.825, 'pos': 0.1, 'comp...     0.100     0.076   \n",
              "1  {'neg': 0.03, 'neu': 0.87, 'pos': 0.1, 'compou...     0.100     0.030   \n",
              "2  {'neg': 0.048, 'neu': 0.831, 'pos': 0.121, 'co...     0.121     0.048   \n",
              "3  {'neg': 0.0, 'neu': 0.857, 'pos': 0.143, 'comp...     0.143     0.000   \n",
              "4  {'neg': 0.067, 'neu': 0.816, 'pos': 0.117, 'co...     0.117     0.067   \n",
              "\n",
              "   Neutral  Compound  \n",
              "0    0.825    0.8629  \n",
              "1    0.870    0.8720  \n",
              "2    0.831    0.8966  \n",
              "3    0.857    0.9592  \n",
              "4    0.816    0.7432  "
            ],
            "text/html": [
              "\n",
              "  <div id=\"df-f14f750a-f89f-42da-8da3-8a46a8e2f097\">\n",
              "    <div class=\"colab-df-container\">\n",
              "      <div>\n",
              "<style scoped>\n",
              "    .dataframe tbody tr th:only-of-type {\n",
              "        vertical-align: middle;\n",
              "    }\n",
              "\n",
              "    .dataframe tbody tr th {\n",
              "        vertical-align: top;\n",
              "    }\n",
              "\n",
              "    .dataframe thead th {\n",
              "        text-align: right;\n",
              "    }\n",
              "</style>\n",
              "<table border=\"1\" class=\"dataframe\">\n",
              "  <thead>\n",
              "    <tr style=\"text-align: right;\">\n",
              "      <th></th>\n",
              "      <th>body</th>\n",
              "      <th>scores</th>\n",
              "      <th>Positive</th>\n",
              "      <th>Negative</th>\n",
              "      <th>Neutral</th>\n",
              "      <th>Compound</th>\n",
              "    </tr>\n",
              "  </thead>\n",
              "  <tbody>\n",
              "    <tr>\n",
              "      <th>0</th>\n",
              "      <td>I had the Samsung A600 for awhile which is abs...</td>\n",
              "      <td>{'neg': 0.076, 'neu': 0.825, 'pos': 0.1, 'comp...</td>\n",
              "      <td>0.100</td>\n",
              "      <td>0.076</td>\n",
              "      <td>0.825</td>\n",
              "      <td>0.8629</td>\n",
              "    </tr>\n",
              "    <tr>\n",
              "      <th>1</th>\n",
              "      <td>Due to a software issue between Nokia and Spri...</td>\n",
              "      <td>{'neg': 0.03, 'neu': 0.87, 'pos': 0.1, 'compou...</td>\n",
              "      <td>0.100</td>\n",
              "      <td>0.030</td>\n",
              "      <td>0.870</td>\n",
              "      <td>0.8720</td>\n",
              "    </tr>\n",
              "    <tr>\n",
              "      <th>2</th>\n",
              "      <td>This is a great, reliable phone. I also purcha...</td>\n",
              "      <td>{'neg': 0.048, 'neu': 0.831, 'pos': 0.121, 'co...</td>\n",
              "      <td>0.121</td>\n",
              "      <td>0.048</td>\n",
              "      <td>0.831</td>\n",
              "      <td>0.8966</td>\n",
              "    </tr>\n",
              "    <tr>\n",
              "      <th>3</th>\n",
              "      <td>I love the phone and all, because I really did...</td>\n",
              "      <td>{'neg': 0.0, 'neu': 0.857, 'pos': 0.143, 'comp...</td>\n",
              "      <td>0.143</td>\n",
              "      <td>0.000</td>\n",
              "      <td>0.857</td>\n",
              "      <td>0.9592</td>\n",
              "    </tr>\n",
              "    <tr>\n",
              "      <th>4</th>\n",
              "      <td>The phone has been great for every purpose it ...</td>\n",
              "      <td>{'neg': 0.067, 'neu': 0.816, 'pos': 0.117, 'co...</td>\n",
              "      <td>0.117</td>\n",
              "      <td>0.067</td>\n",
              "      <td>0.816</td>\n",
              "      <td>0.7432</td>\n",
              "    </tr>\n",
              "  </tbody>\n",
              "</table>\n",
              "</div>\n",
              "      <button class=\"colab-df-convert\" onclick=\"convertToInteractive('df-f14f750a-f89f-42da-8da3-8a46a8e2f097')\"\n",
              "              title=\"Convert this dataframe to an interactive table.\"\n",
              "              style=\"display:none;\">\n",
              "        \n",
              "  <svg xmlns=\"http://www.w3.org/2000/svg\" height=\"24px\"viewBox=\"0 0 24 24\"\n",
              "       width=\"24px\">\n",
              "    <path d=\"M0 0h24v24H0V0z\" fill=\"none\"/>\n",
              "    <path d=\"M18.56 5.44l.94 2.06.94-2.06 2.06-.94-2.06-.94-.94-2.06-.94 2.06-2.06.94zm-11 1L8.5 8.5l.94-2.06 2.06-.94-2.06-.94L8.5 2.5l-.94 2.06-2.06.94zm10 10l.94 2.06.94-2.06 2.06-.94-2.06-.94-.94-2.06-.94 2.06-2.06.94z\"/><path d=\"M17.41 7.96l-1.37-1.37c-.4-.4-.92-.59-1.43-.59-.52 0-1.04.2-1.43.59L10.3 9.45l-7.72 7.72c-.78.78-.78 2.05 0 2.83L4 21.41c.39.39.9.59 1.41.59.51 0 1.02-.2 1.41-.59l7.78-7.78 2.81-2.81c.8-.78.8-2.07 0-2.86zM5.41 20L4 18.59l7.72-7.72 1.47 1.35L5.41 20z\"/>\n",
              "  </svg>\n",
              "      </button>\n",
              "      \n",
              "  <style>\n",
              "    .colab-df-container {\n",
              "      display:flex;\n",
              "      flex-wrap:wrap;\n",
              "      gap: 12px;\n",
              "    }\n",
              "\n",
              "    .colab-df-convert {\n",
              "      background-color: #E8F0FE;\n",
              "      border: none;\n",
              "      border-radius: 50%;\n",
              "      cursor: pointer;\n",
              "      display: none;\n",
              "      fill: #1967D2;\n",
              "      height: 32px;\n",
              "      padding: 0 0 0 0;\n",
              "      width: 32px;\n",
              "    }\n",
              "\n",
              "    .colab-df-convert:hover {\n",
              "      background-color: #E2EBFA;\n",
              "      box-shadow: 0px 1px 2px rgba(60, 64, 67, 0.3), 0px 1px 3px 1px rgba(60, 64, 67, 0.15);\n",
              "      fill: #174EA6;\n",
              "    }\n",
              "\n",
              "    [theme=dark] .colab-df-convert {\n",
              "      background-color: #3B4455;\n",
              "      fill: #D2E3FC;\n",
              "    }\n",
              "\n",
              "    [theme=dark] .colab-df-convert:hover {\n",
              "      background-color: #434B5C;\n",
              "      box-shadow: 0px 1px 3px 1px rgba(0, 0, 0, 0.15);\n",
              "      filter: drop-shadow(0px 1px 2px rgba(0, 0, 0, 0.3));\n",
              "      fill: #FFFFFF;\n",
              "    }\n",
              "  </style>\n",
              "\n",
              "      <script>\n",
              "        const buttonEl =\n",
              "          document.querySelector('#df-f14f750a-f89f-42da-8da3-8a46a8e2f097 button.colab-df-convert');\n",
              "        buttonEl.style.display =\n",
              "          google.colab.kernel.accessAllowed ? 'block' : 'none';\n",
              "\n",
              "        async function convertToInteractive(key) {\n",
              "          const element = document.querySelector('#df-f14f750a-f89f-42da-8da3-8a46a8e2f097');\n",
              "          const dataTable =\n",
              "            await google.colab.kernel.invokeFunction('convertToInteractive',\n",
              "                                                     [key], {});\n",
              "          if (!dataTable) return;\n",
              "\n",
              "          const docLinkHtml = 'Like what you see? Visit the ' +\n",
              "            '<a target=\"_blank\" href=https://colab.research.google.com/notebooks/data_table.ipynb>data table notebook</a>'\n",
              "            + ' to learn more about interactive tables.';\n",
              "          element.innerHTML = '';\n",
              "          dataTable['output_type'] = 'display_data';\n",
              "          await google.colab.output.renderOutput(dataTable, element);\n",
              "          const docLink = document.createElement('div');\n",
              "          docLink.innerHTML = docLinkHtml;\n",
              "          element.appendChild(docLink);\n",
              "        }\n",
              "      </script>\n",
              "    </div>\n",
              "  </div>\n",
              "  "
            ]
          },
          "metadata": {},
          "execution_count": 22
        }
      ]
    },
    {
      "cell_type": "code",
      "source": [
        "mobileBrands = ['samsung','nokia','apple','google pixel','redmi','xiaomi']\n",
        "def brandname(mobileBrands ,review):\n",
        "  for brand in mobileBrands:\n",
        "    if brand in review:\n",
        "      return brand"
      ],
      "metadata": {
        "id": "fTVN_pAr8L2r"
      },
      "execution_count": null,
      "outputs": []
    },
    {
      "cell_type": "code",
      "source": [
        "df[\"Brand_Names\"] = df[\"body\"].apply(lambda body : brandname(mobileBrands ,str(body).lower()))"
      ],
      "metadata": {
        "id": "VrOKLNf0ByYv"
      },
      "execution_count": null,
      "outputs": []
    },
    {
      "cell_type": "code",
      "source": [
        "df.head()"
      ],
      "metadata": {
        "colab": {
          "base_uri": "https://localhost:8080/",
          "height": 206
        },
        "id": "juqY9ozl9tXw",
        "outputId": "e88c73ba-c0c1-4181-d6cf-9fa6e489a854"
      },
      "execution_count": null,
      "outputs": [
        {
          "output_type": "execute_result",
          "data": {
            "text/plain": [
              "                                                body  \\\n",
              "0  I had the Samsung A600 for awhile which is abs...   \n",
              "1  Due to a software issue between Nokia and Spri...   \n",
              "2  This is a great, reliable phone. I also purcha...   \n",
              "3  I love the phone and all, because I really did...   \n",
              "4  The phone has been great for every purpose it ...   \n",
              "\n",
              "                                              scores  Positive  Negative  \\\n",
              "0  {'neg': 0.076, 'neu': 0.825, 'pos': 0.1, 'comp...     0.100     0.076   \n",
              "1  {'neg': 0.03, 'neu': 0.87, 'pos': 0.1, 'compou...     0.100     0.030   \n",
              "2  {'neg': 0.048, 'neu': 0.831, 'pos': 0.121, 'co...     0.121     0.048   \n",
              "3  {'neg': 0.0, 'neu': 0.857, 'pos': 0.143, 'comp...     0.143     0.000   \n",
              "4  {'neg': 0.067, 'neu': 0.816, 'pos': 0.117, 'co...     0.117     0.067   \n",
              "\n",
              "   Neutral  Compound Brand_Names  \n",
              "0    0.825    0.8629     samsung  \n",
              "1    0.870    0.8720       nokia  \n",
              "2    0.831    0.8966     samsung  \n",
              "3    0.857    0.9592        None  \n",
              "4    0.816    0.7432        None  "
            ],
            "text/html": [
              "\n",
              "  <div id=\"df-bb16711b-7b02-4c07-8049-c47447475c84\">\n",
              "    <div class=\"colab-df-container\">\n",
              "      <div>\n",
              "<style scoped>\n",
              "    .dataframe tbody tr th:only-of-type {\n",
              "        vertical-align: middle;\n",
              "    }\n",
              "\n",
              "    .dataframe tbody tr th {\n",
              "        vertical-align: top;\n",
              "    }\n",
              "\n",
              "    .dataframe thead th {\n",
              "        text-align: right;\n",
              "    }\n",
              "</style>\n",
              "<table border=\"1\" class=\"dataframe\">\n",
              "  <thead>\n",
              "    <tr style=\"text-align: right;\">\n",
              "      <th></th>\n",
              "      <th>body</th>\n",
              "      <th>scores</th>\n",
              "      <th>Positive</th>\n",
              "      <th>Negative</th>\n",
              "      <th>Neutral</th>\n",
              "      <th>Compound</th>\n",
              "      <th>Brand_Names</th>\n",
              "    </tr>\n",
              "  </thead>\n",
              "  <tbody>\n",
              "    <tr>\n",
              "      <th>0</th>\n",
              "      <td>I had the Samsung A600 for awhile which is abs...</td>\n",
              "      <td>{'neg': 0.076, 'neu': 0.825, 'pos': 0.1, 'comp...</td>\n",
              "      <td>0.100</td>\n",
              "      <td>0.076</td>\n",
              "      <td>0.825</td>\n",
              "      <td>0.8629</td>\n",
              "      <td>samsung</td>\n",
              "    </tr>\n",
              "    <tr>\n",
              "      <th>1</th>\n",
              "      <td>Due to a software issue between Nokia and Spri...</td>\n",
              "      <td>{'neg': 0.03, 'neu': 0.87, 'pos': 0.1, 'compou...</td>\n",
              "      <td>0.100</td>\n",
              "      <td>0.030</td>\n",
              "      <td>0.870</td>\n",
              "      <td>0.8720</td>\n",
              "      <td>nokia</td>\n",
              "    </tr>\n",
              "    <tr>\n",
              "      <th>2</th>\n",
              "      <td>This is a great, reliable phone. I also purcha...</td>\n",
              "      <td>{'neg': 0.048, 'neu': 0.831, 'pos': 0.121, 'co...</td>\n",
              "      <td>0.121</td>\n",
              "      <td>0.048</td>\n",
              "      <td>0.831</td>\n",
              "      <td>0.8966</td>\n",
              "      <td>samsung</td>\n",
              "    </tr>\n",
              "    <tr>\n",
              "      <th>3</th>\n",
              "      <td>I love the phone and all, because I really did...</td>\n",
              "      <td>{'neg': 0.0, 'neu': 0.857, 'pos': 0.143, 'comp...</td>\n",
              "      <td>0.143</td>\n",
              "      <td>0.000</td>\n",
              "      <td>0.857</td>\n",
              "      <td>0.9592</td>\n",
              "      <td>None</td>\n",
              "    </tr>\n",
              "    <tr>\n",
              "      <th>4</th>\n",
              "      <td>The phone has been great for every purpose it ...</td>\n",
              "      <td>{'neg': 0.067, 'neu': 0.816, 'pos': 0.117, 'co...</td>\n",
              "      <td>0.117</td>\n",
              "      <td>0.067</td>\n",
              "      <td>0.816</td>\n",
              "      <td>0.7432</td>\n",
              "      <td>None</td>\n",
              "    </tr>\n",
              "  </tbody>\n",
              "</table>\n",
              "</div>\n",
              "      <button class=\"colab-df-convert\" onclick=\"convertToInteractive('df-bb16711b-7b02-4c07-8049-c47447475c84')\"\n",
              "              title=\"Convert this dataframe to an interactive table.\"\n",
              "              style=\"display:none;\">\n",
              "        \n",
              "  <svg xmlns=\"http://www.w3.org/2000/svg\" height=\"24px\"viewBox=\"0 0 24 24\"\n",
              "       width=\"24px\">\n",
              "    <path d=\"M0 0h24v24H0V0z\" fill=\"none\"/>\n",
              "    <path d=\"M18.56 5.44l.94 2.06.94-2.06 2.06-.94-2.06-.94-.94-2.06-.94 2.06-2.06.94zm-11 1L8.5 8.5l.94-2.06 2.06-.94-2.06-.94L8.5 2.5l-.94 2.06-2.06.94zm10 10l.94 2.06.94-2.06 2.06-.94-2.06-.94-.94-2.06-.94 2.06-2.06.94z\"/><path d=\"M17.41 7.96l-1.37-1.37c-.4-.4-.92-.59-1.43-.59-.52 0-1.04.2-1.43.59L10.3 9.45l-7.72 7.72c-.78.78-.78 2.05 0 2.83L4 21.41c.39.39.9.59 1.41.59.51 0 1.02-.2 1.41-.59l7.78-7.78 2.81-2.81c.8-.78.8-2.07 0-2.86zM5.41 20L4 18.59l7.72-7.72 1.47 1.35L5.41 20z\"/>\n",
              "  </svg>\n",
              "      </button>\n",
              "      \n",
              "  <style>\n",
              "    .colab-df-container {\n",
              "      display:flex;\n",
              "      flex-wrap:wrap;\n",
              "      gap: 12px;\n",
              "    }\n",
              "\n",
              "    .colab-df-convert {\n",
              "      background-color: #E8F0FE;\n",
              "      border: none;\n",
              "      border-radius: 50%;\n",
              "      cursor: pointer;\n",
              "      display: none;\n",
              "      fill: #1967D2;\n",
              "      height: 32px;\n",
              "      padding: 0 0 0 0;\n",
              "      width: 32px;\n",
              "    }\n",
              "\n",
              "    .colab-df-convert:hover {\n",
              "      background-color: #E2EBFA;\n",
              "      box-shadow: 0px 1px 2px rgba(60, 64, 67, 0.3), 0px 1px 3px 1px rgba(60, 64, 67, 0.15);\n",
              "      fill: #174EA6;\n",
              "    }\n",
              "\n",
              "    [theme=dark] .colab-df-convert {\n",
              "      background-color: #3B4455;\n",
              "      fill: #D2E3FC;\n",
              "    }\n",
              "\n",
              "    [theme=dark] .colab-df-convert:hover {\n",
              "      background-color: #434B5C;\n",
              "      box-shadow: 0px 1px 3px 1px rgba(0, 0, 0, 0.15);\n",
              "      filter: drop-shadow(0px 1px 2px rgba(0, 0, 0, 0.3));\n",
              "      fill: #FFFFFF;\n",
              "    }\n",
              "  </style>\n",
              "\n",
              "      <script>\n",
              "        const buttonEl =\n",
              "          document.querySelector('#df-bb16711b-7b02-4c07-8049-c47447475c84 button.colab-df-convert');\n",
              "        buttonEl.style.display =\n",
              "          google.colab.kernel.accessAllowed ? 'block' : 'none';\n",
              "\n",
              "        async function convertToInteractive(key) {\n",
              "          const element = document.querySelector('#df-bb16711b-7b02-4c07-8049-c47447475c84');\n",
              "          const dataTable =\n",
              "            await google.colab.kernel.invokeFunction('convertToInteractive',\n",
              "                                                     [key], {});\n",
              "          if (!dataTable) return;\n",
              "\n",
              "          const docLinkHtml = 'Like what you see? Visit the ' +\n",
              "            '<a target=\"_blank\" href=https://colab.research.google.com/notebooks/data_table.ipynb>data table notebook</a>'\n",
              "            + ' to learn more about interactive tables.';\n",
              "          element.innerHTML = '';\n",
              "          dataTable['output_type'] = 'display_data';\n",
              "          await google.colab.output.renderOutput(dataTable, element);\n",
              "          const docLink = document.createElement('div');\n",
              "          docLink.innerHTML = docLinkHtml;\n",
              "          element.appendChild(docLink);\n",
              "        }\n",
              "      </script>\n",
              "    </div>\n",
              "  </div>\n",
              "  "
            ]
          },
          "metadata": {},
          "execution_count": 41
        }
      ]
    },
    {
      "cell_type": "code",
      "source": [
        "rows , cols = df.shape\n",
        "\n",
        "def countscores(brandname):\n",
        "  pos_sum = 0\n",
        "  neg_sum = 0\n",
        "  neut_sum = 0\n",
        "  comp_sum = 0\n",
        "  count = 0\n",
        "  for i in range(0,rows):\n",
        "    if df.loc[i]['Brand_Names'] == brandname:\n",
        "      count = count + 1\n",
        "      pos_sum = pos_sum + float(df.loc[i]['Positive'])\n",
        "      neg_sum = neg_sum + float(df.loc[i]['Negative'])\n",
        "      neut_sum = neut_sum + float(df.loc[i]['Neutral'])\n",
        "      comp_sum = comp_sum + float(df.loc[i]['Compound'])\n",
        "  aveg_pos = pos_sum / count\n",
        "  aveg_neg = neg_sum / count\n",
        "  aveg_neut = neut_sum / count\n",
        "  aveg_comp = comp_sum / count\n",
        "  # print([aveg_pos,aveg_neg,aveg_neut,aveg_comp])\n",
        "  return [aveg_pos,aveg_neg,aveg_neut,aveg_comp]"
      ],
      "metadata": {
        "id": "wWXrsCjUCzwO"
      },
      "execution_count": null,
      "outputs": []
    },
    {
      "cell_type": "code",
      "source": [
        "mobileBrands = ['samsung','nokia','apple','google pixel','redmi','xiaomi']\n",
        "def plotter():\n",
        "  for brand in mobileBrands:\n",
        "    y = countscores(brand)[:-1]\n",
        "    x = ['Positive',\"negative\",'neutral']\n",
        "    plt.bar(x,y)\n",
        "    plt.show()\n",
        "    print(brand,\" \",y,\"\\n\\n\")"
      ],
      "metadata": {
        "id": "K7diiUudH7wb"
      },
      "execution_count": null,
      "outputs": []
    },
    {
      "cell_type": "code",
      "source": [
        "plotter()"
      ],
      "metadata": {
        "colab": {
          "base_uri": "https://localhost:8080/",
          "height": 1000
        },
        "id": "Kp382dcIKcWC",
        "outputId": "989de450-47de-4999-ad9e-51a73bf15ce7"
      },
      "execution_count": null,
      "outputs": [
        {
          "output_type": "display_data",
          "data": {
            "text/plain": [
              "<Figure size 640x480 with 1 Axes>"
            ],
            "image/png": "[encoded data removed]"
          },
          "metadata": {}
        },
        {
          "output_type": "stream",
          "name": "stdout",
          "text": [
            "samsung   [0.14834341334341383, 0.05318900018900015, 0.7984672084672113] \n",
            "\n",
            "\n"
          ]
        },
        {
          "output_type": "display_data",
          "data": {
            "text/plain": [
              "<Figure size 640x480 with 1 Axes>"
            ],
            "image/png": "[encoded data removed]"
          },
          "metadata": {}
        },
        {
          "output_type": "stream",
          "name": "stdout",
          "text": [
            "nokia   [0.15105563689604695, 0.05484333821376288, 0.7940893118594428] \n",
            "\n",
            "\n"
          ]
        },
        {
          "output_type": "display_data",
          "data": {
            "text/plain": [
              "<Figure size 640x480 with 1 Axes>"
            ],
            "image/png": "[encoded data removed]"
          },
          "metadata": {}
        },
        {
          "output_type": "stream",
          "name": "stdout",
          "text": [
            "apple   [0.13850481927710837, 0.05677228915662647, 0.8047385542168668] \n",
            "\n",
            "\n"
          ]
        },
        {
          "output_type": "display_data",
          "data": {
            "text/plain": [
              "<Figure size 640x480 with 1 Axes>"
            ],
            "image/png": "[encoded data removed]"
          },
          "metadata": {}
        },
        {
          "output_type": "stream",
          "name": "stdout",
          "text": [
            "google pixel   [0.12951851851851848, 0.061635802469135824, 0.8087777777777774] \n",
            "\n",
            "\n"
          ]
        },
        {
          "output_type": "display_data",
          "data": {
            "text/plain": [
              "<Figure size 640x480 with 1 Axes>"
            ],
            "image/png": "[encoded data removed]"
          },
          "metadata": {}
        },
        {
          "output_type": "stream",
          "name": "stdout",
          "text": [
            "redmi   [0.15195454545454548, 0.043992424242424256, 0.8040909090909091] \n",
            "\n",
            "\n"
          ]
        },
        {
          "output_type": "display_data",
          "data": {
            "text/plain": [
              "<Figure size 640x480 with 1 Axes>"
            ],
            "image/png": "[encoded data removed]"
          },
          "metadata": {}
        },
        {
          "output_type": "stream",
          "name": "stdout",
          "text": [
            "xiaomi   [0.16126765799256504, 0.049011152416356896, 0.7896988847583639] \n",
            "\n",
            "\n"
          ]
        }
      ]
    },
    {
      "cell_type": "code",
      "source": [
        "mobileBrands = ['samsung','nokia','apple','google pixel','redmi','xiaomi']\n",
        "compound_scores = [countscores(i)[-1] for i in mobileBrands]\n",
        "plt.bar(mobileBrands,compound_scores)\n",
        "plt.show()"
      ],
      "metadata": {
        "colab": {
          "base_uri": "https://localhost:8080/"
        },
        "id": "Bx6OhSbnKi0D",
        "outputId": "69f810f0-1e26-4f16-f0da-d5ddd1c85235"
      },
      "execution_count": null,
      "outputs": [
        {
          "output_type": "display_data",
          "data": {
            "text/plain": [
              "<Figure size 640x480 with 1 Axes>"
            ],
            "image/png": "[encoded data removed]"
          },
          "metadata": {}
        }
      ]
    }
  ]
}